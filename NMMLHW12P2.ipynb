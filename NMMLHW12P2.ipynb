{
  "nbformat": 4,
  "nbformat_minor": 0,
  "metadata": {
    "colab": {
      "provenance": [],
      "authorship_tag": "ABX9TyPH2stqCHPxCaQC0yjSU01t",
      "include_colab_link": true
    },
    "kernelspec": {
      "name": "python3",
      "display_name": "Python 3"
    },
    "language_info": {
      "name": "python"
    }
  },
  "cells": [
    {
      "cell_type": "markdown",
      "metadata": {
        "id": "view-in-github",
        "colab_type": "text"
      },
      "source": [
        "<a href=\"https://colab.research.google.com/github/IRPARKS/NMML/blob/main/NMMLHW12P2.ipynb\" target=\"_parent\"><img src=\"https://colab.research.google.com/assets/colab-badge.svg\" alt=\"Open In Colab\"/></a>"
      ]
    },
    {
      "cell_type": "code",
      "source": [
        "import h5py\n",
        "import numpy as np\n",
        "from sklearn.model_selection import train_test_split\n",
        "from tensorflow.keras.models import Sequential\n",
        "from tensorflow.keras.layers import LSTM, Dense, Dropout\n",
        "from tensorflow.keras.optimizers import Adam\n",
        "from tensorflow.keras.preprocessing.sequence import pad_sequences\n",
        "from tensorflow.keras import backend as K\n",
        "import tensorflow as tf\n",
        "from memory_profiler import profile\n",
        "\n",
        "# Function to create a data generator\n",
        "def data_generator(data, labels, batch_size):\n",
        "    num_samples = len(data)\n",
        "    while True:\n",
        "        indices = np.random.permutation(num_samples)\n",
        "        for start in range(0, num_samples, batch_size):\n",
        "            batch_indices = indices[start:start+batch_size]\n",
        "            batch_data = data[batch_indices]\n",
        "            batch_labels = labels[batch_indices]\n",
        "            yield batch_data[:, :, np.newaxis], batch_labels\n",
        "\n",
        "# Load data from HDF5 file\n",
        "filepath = 'Rat08-20130711_017.h5'\n",
        "f = h5py.File(filepath, 'r')\n",
        "\n",
        "# Extract LFP data and labels\n",
        "states = list(f.keys())  # ['NREM', 'WAKE']\n",
        "lfp_data = []\n",
        "labels = []\n",
        "\n",
        "for state in states:\n",
        "    group = f[state]\n",
        "    n_segments = len(group)\n",
        "    for i in range(n_segments):\n",
        "        lfp_data.append(group[str(i+1)][()].astype(float))\n",
        "        labels.append(0 if state == 'NREM' else 1)  # Use 0 for NREM and 1 for WAKE\n",
        "\n",
        "# Pad sequences to a maximum length (adjust maxlen based on your data)\n",
        "max_sequence_length = 1000\n",
        "lfp_data_padded = pad_sequences(lfp_data, dtype='float32', padding='post', truncating='post', maxlen=max_sequence_length)\n",
        "\n",
        "# Convert to numpy arrays\n",
        "labels = np.array(labels)\n",
        "\n",
        "# Split data into training and testing sets\n",
        "X_train, X_test, y_train, y_test = train_test_split(lfp_data_padded, labels, test_size=0.2, random_state=42)\n",
        "\n",
        "# Define batch size and create data generators\n",
        "batch_size = 16\n",
        "train_generator = data_generator(X_train, y_train, batch_size)\n",
        "test_generator = data_generator(X_test, y_test, batch_size)\n",
        "\n",
        "# Clear session and set GPU memory growth (if using GPU)\n",
        "K.clear_session()\n",
        "physical_devices = tf.config.list_physical_devices('GPU')\n",
        "if len(physical_devices) > 0:\n",
        "    tf.config.experimental.set_memory_growth(physical_devices[0], True)\n",
        "\n",
        "# Define LSTM model\n",
        "model = Sequential()\n",
        "model.add(LSTM(units=32, input_shape=(max_sequence_length, 1)))\n",
        "model.add(Dropout(0.2))\n",
        "model.add(Dense(1, activation='sigmoid'))\n",
        "\n",
        "# Compile model\n",
        "model.compile(optimizer=Adam(learning_rate=0.001), loss='binary_crossentropy', metrics=['accuracy'])\n",
        "\n",
        "# Train model with memory profiling\n",
        "@profile\n",
        "def train_model():\n",
        "    model.fit(train_generator, epochs=10, steps_per_epoch=len(X_train)//batch_size, validation_data=test_generator, validation_steps=len(X_test)//batch_size)\n",
        "\n",
        "train_model()\n",
        "\n",
        "# Evaluate model\n",
        "loss, accuracy = model.evaluate(test_generator, steps=len(X_test)//batch_size)\n",
        "print(f\"Test Accuracy: {accuracy*100:.2f}%\")\n"
      ],
      "metadata": {
        "colab": {
          "base_uri": "https://localhost:8080/"
        },
        "id": "oNNimrJ3-qnt",
        "outputId": "016bf0c7-2416-4510-a2a7-191c38c63747"
      },
      "execution_count": 2,
      "outputs": [
        {
          "output_type": "stream",
          "name": "stdout",
          "text": [
            "Collecting memory_profiler\n",
            "  Downloading memory_profiler-0.61.0-py3-none-any.whl (31 kB)\n",
            "Requirement already satisfied: psutil in /usr/local/lib/python3.10/dist-packages (from memory_profiler) (5.9.5)\n",
            "Installing collected packages: memory_profiler\n",
            "Successfully installed memory_profiler-0.61.0\n"
          ]
        },
        {
          "output_type": "stream",
          "name": "stderr",
          "text": [
            "\n",
            "PYDEV DEBUGGER WARNING:\n",
            "sys.settrace() should not be used when the debugger is being used.\n",
            "This may cause the debugger to stop working correctly.\n",
            "If this is needed, please check: \n",
            "http://pydev.blogspot.com/2007/06/why-cant-pydev-debugger-work-with.html\n",
            "to see how to restore the debug tracing back correctly.\n",
            "Call Location:\n",
            "  File \"/usr/local/lib/python3.10/dist-packages/memory_profiler.py\", line 847, in enable\n",
            "    sys.settrace(self.trace_memory_usage)\n",
            "\n"
          ]
        },
        {
          "output_type": "stream",
          "name": "stdout",
          "text": [
            "ERROR: Could not find file <ipython-input-2-f375ada17fef>\n",
            "NOTE: %mprun can only be used on functions defined in physical files, and not in the IPython environment.\n",
            "Epoch 1/10\n",
            "4/4 [==============================] - 13s 981ms/step - loss: 0.6696 - accuracy: 0.5312 - val_loss: 0.6518 - val_accuracy: 0.6250\n",
            "Epoch 2/10\n",
            "4/4 [==============================] - 1s 256ms/step - loss: 0.7168 - accuracy: 0.5333 - val_loss: 0.4848 - val_accuracy: 1.0000\n",
            "Epoch 3/10\n",
            "4/4 [==============================] - 1s 332ms/step - loss: 0.6349 - accuracy: 0.6333 - val_loss: 0.6275 - val_accuracy: 0.6250\n",
            "Epoch 4/10\n",
            "4/4 [==============================] - 2s 490ms/step - loss: 0.6840 - accuracy: 0.6333 - val_loss: 0.5071 - val_accuracy: 1.0000\n",
            "Epoch 5/10\n",
            "4/4 [==============================] - 1s 264ms/step - loss: 0.6663 - accuracy: 0.6333 - val_loss: 0.6386 - val_accuracy: 0.6250\n",
            "Epoch 6/10\n",
            "4/4 [==============================] - 1s 283ms/step - loss: 0.6799 - accuracy: 0.5938 - val_loss: 0.6722 - val_accuracy: 0.7500\n",
            "Epoch 7/10\n",
            "4/4 [==============================] - 1s 262ms/step - loss: 0.6647 - accuracy: 0.6333 - val_loss: 0.6706 - val_accuracy: 0.5625\n",
            "Epoch 8/10\n",
            "4/4 [==============================] - 1s 258ms/step - loss: 0.6809 - accuracy: 0.5500 - val_loss: 0.7076 - val_accuracy: 0.5000\n",
            "Epoch 9/10\n",
            "4/4 [==============================] - 1s 257ms/step - loss: 0.6566 - accuracy: 0.5667 - val_loss: 0.7077 - val_accuracy: 0.5000\n",
            "Epoch 10/10\n",
            "4/4 [==============================] - 1s 247ms/step - loss: 0.6303 - accuracy: 0.6500 - val_loss: 0.5743 - val_accuracy: 0.7500\n"
          ]
        },
        {
          "output_type": "stream",
          "name": "stderr",
          "text": [
            "\n",
            "PYDEV DEBUGGER WARNING:\n",
            "sys.settrace() should not be used when the debugger is being used.\n",
            "This may cause the debugger to stop working correctly.\n",
            "If this is needed, please check: \n",
            "http://pydev.blogspot.com/2007/06/why-cant-pydev-debugger-work-with.html\n",
            "to see how to restore the debug tracing back correctly.\n",
            "Call Location:\n",
            "  File \"/usr/local/lib/python3.10/dist-packages/memory_profiler.py\", line 850, in disable\n",
            "    sys.settrace(self._original_trace_function)\n",
            "\n"
          ]
        },
        {
          "output_type": "stream",
          "name": "stdout",
          "text": [
            "1/1 [==============================] - 0s 86ms/step - loss: 0.6332 - accuracy: 0.6250\n",
            "Test Accuracy: 62.50%\n"
          ]
        }
      ]
    }
  ]
}