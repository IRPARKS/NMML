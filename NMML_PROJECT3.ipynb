{
  "nbformat": 4,
  "nbformat_minor": 0,
  "metadata": {
    "colab": {
      "provenance": [],
      "authorship_tag": "ABX9TyNMbYG1ZHSRC4oxpXvGQxS7",
      "include_colab_link": true
    },
    "kernelspec": {
      "name": "python3",
      "display_name": "Python 3"
    },
    "language_info": {
      "name": "python"
    }
  },
  "cells": [
    {
      "cell_type": "markdown",
      "metadata": {
        "id": "view-in-github",
        "colab_type": "text"
      },
      "source": [
        "<a href=\"https://colab.research.google.com/github/IRPARKS/NMML/blob/main/NMML_PROJECT3.ipynb\" target=\"_parent\"><img src=\"https://colab.research.google.com/assets/colab-badge.svg\" alt=\"Open In Colab\"/></a>"
      ]
    },
    {
      "cell_type": "markdown",
      "source": [
        "Rat08-20130711_017.h5"
      ],
      "metadata": {
        "id": "ES3dmdiHandl"
      }
    },
    {
      "cell_type": "code",
      "source": [
        "import h5py\n",
        "import numpy as np\n",
        "\n",
        "filepath = 'Rat08-20130711_017.h5'  # data file\n",
        "f = h5py.File(filepath, 'r')  # read data with h5 format\n",
        "fs = f.attrs['fs'][0]  # get sampling frequency of LFP signal (Hz)\n",
        "print(\"Sampling rate: %.1f Hz\" % (fs))"
      ],
      "metadata": {
        "id": "-9WRFD6watqL",
        "outputId": "36faf717-b464-43d6-caa1-9a1c758acc9d",
        "colab": {
          "base_uri": "https://localhost:8080/"
        }
      },
      "execution_count": 1,
      "outputs": [
        {
          "output_type": "stream",
          "name": "stdout",
          "text": [
            "Sampling rate: 1250.0 Hz\n"
          ]
        }
      ]
    },
    {
      "cell_type": "code",
      "source": [
        "states = []  # two states (NREM & WAKE) to be classified\n",
        "# LFP recordings are store in two h5 groups for each state\n",
        "# Under each h5 group, the LFP recordings are divided into several segments with different lengths.\n",
        "for name, grp in f.items():\n",
        "  states.append(name)\n",
        "  print(\"State: %s\" % (name))\n",
        "  print(\"Segment IDs:\")\n",
        "  print(list(grp.keys()))"
      ],
      "metadata": {
        "id": "ZOIlPd1haw9F",
        "outputId": "2c671f37-095d-42aa-bbc8-e37042a10125",
        "colab": {
          "base_uri": "https://localhost:8080/"
        }
      },
      "execution_count": 2,
      "outputs": [
        {
          "output_type": "stream",
          "name": "stdout",
          "text": [
            "State: NREM\n",
            "Segment IDs:\n",
            "['1', '10', '11', '12', '13', '14', '15', '16', '17', '18', '19', '2', '20', '21', '22', '23', '24', '25', '26', '27', '28', '29', '3', '30', '31', '32', '33', '34', '35', '36', '37', '38', '39', '4', '40', '41', '42', '43', '44', '45', '46', '47', '48', '49', '5', '50', '51', '52', '53', '54', '55', '56', '57', '58', '59', '6', '7', '8', '9']\n",
            "State: WAKE\n",
            "Segment IDs:\n",
            "['1', '10', '11', '12', '13', '14', '15', '16', '17', '18', '19', '2', '20', '21', '22', '23', '24', '25', '26', '27', '28', '29', '3', '30', '31', '32', '33', '34', '35', '36', '37', '4', '5', '6', '7', '8', '9']\n"
          ]
        }
      ]
    },
    {
      "cell_type": "code",
      "source": [
        "# Convert the recording in to numpy arrays\n",
        "# Use a dictionary to store the LFP recordings of the two states\n",
        "# each containing a list of numpy arrays of all segments\n",
        "lfp = {key: [] for key in states}\n",
        "for key in states:\n",
        "  group = f[key]  # h5 group of a state\n",
        "  n = len(group)  # number of segments\n",
        "  for i in range(n):\n",
        "    lfp[key].append(group[str(i+1)][()].astype(float))  # convert data to numpy array and from int type to float type\n",
        "\n",
        "# print(lfp)"
      ],
      "metadata": {
        "id": "gfbjGWsba0ma"
      },
      "execution_count": 3,
      "outputs": []
    },
    {
      "cell_type": "code",
      "source": [
        "import matplotlib.pyplot as plt\n",
        "\n",
        "x = lfp['NREM'][0]  # accessing the 10-th LFP segment in NREM state\n",
        "t = np.arange(x.size)/fs  # time points\n",
        "\n",
        "plt.plot(t,x)\n",
        "plt.xlabel('second')\n",
        "plt.show()"
      ],
      "metadata": {
        "id": "0ESG_2LBa1Rg",
        "outputId": "7ff1f62b-f86c-47d1-cee7-98418aa54f39",
        "colab": {
          "base_uri": "https://localhost:8080/",
          "height": 449
        }
      },
      "execution_count": 7,
      "outputs": [
        {
          "output_type": "display_data",
          "data": {
            "text/plain": [
              "<Figure size 640x480 with 1 Axes>"
            ],
            "image/png": "[encoded data removed]"
          },
          "metadata": {}
        }
      ]
    },
    {
      "cell_type": "code",
      "source": [
        "from scipy.signal import welch\n",
        "\n",
        "f,pxx=welch(x[:int(5*fs)],fs=fs,nperseg=int(1*fs))\n",
        "plt.plot(f,np.log(pxx))"
      ],
      "metadata": {
        "colab": {
          "base_uri": "https://localhost:8080/",
          "height": 448
        },
        "id": "7RJYVj4obl9D",
        "outputId": "88f91596-383e-4425-e106-276c24a4f9a5"
      },
      "execution_count": 15,
      "outputs": [
        {
          "output_type": "execute_result",
          "data": {
            "text/plain": [
              "[<matplotlib.lines.Line2D at 0x7dbeb7346740>]"
            ]
          },
          "metadata": {},
          "execution_count": 15
        },
        {
          "output_type": "display_data",
          "data": {
            "text/plain": [
              "<Figure size 640x480 with 1 Axes>"
            ],
            "image/png": "[encoded data removed]"
          },
          "metadata": {}
        }
      ]
    },
    {
      "cell_type": "code",
      "source": [
        "import h5py\n",
        "import numpy as np\n",
        "import scipy.stats\n",
        "import torch\n",
        "import torch.nn as nn\n",
        "from scipy.signal import welch\n",
        "from sklearn.model_selection import train_test_split\n"
      ],
      "metadata": {
        "id": "89vQMBfFhN5a"
      },
      "execution_count": 16,
      "outputs": []
    },
    {
      "cell_type": "code",
      "source": [
        "def extract_features(signal, fs):\n",
        "    # Calculate statistics of the signal clip\n",
        "    mean_value = np.mean(signal)\n",
        "    std_dev = np.std(signal)\n",
        "    skewness = scipy.stats.skew(signal)\n",
        "    kurtosis = scipy.stats.kurtosis(signal)\n",
        "\n",
        "    # Calculate Power Spectral Density (PSD)\n",
        "    f, pxx = welch(signal, fs=fs, nperseg=int(1*fs))\n",
        "\n",
        "    # Normalize features (optional but recommended)\n",
        "    features = [mean_value, std_dev, skewness, kurtosis]  # Add more features as needed\n",
        "    features = (np.array(features) - np.mean(features)) / np.std(features)  # Z-score normalization\n",
        "\n",
        "    return features\n"
      ],
      "metadata": {
        "id": "6ADvD4E4hN3W"
      },
      "execution_count": 17,
      "outputs": []
    },
    {
      "cell_type": "code",
      "source": [
        "clip_length = 5  # Clip length in seconds (integer)\n",
        "fs = 1250  # Assuming a default sampling frequency of 1250 Hz\n",
        "\n",
        "X = []\n",
        "y = []\n",
        "\n",
        "for state in lfp:\n",
        "    for segment in lfp[state]:\n",
        "        segment_length = len(segment)\n",
        "        clip_duration_samples = clip_length * fs\n",
        "\n",
        "        for start in range(0, segment_length - clip_duration_samples, clip_duration_samples):\n",
        "            clip = segment[start:start + clip_duration_samples]\n",
        "            features = extract_features(clip, fs)\n",
        "            X.append(features)\n",
        "            y.append(0 if state == 'NREM' else 1)  # Use 0 for NREM and 1 for WAKE\n",
        "\n",
        "X = np.array(X)\n",
        "y = np.array(y)\n",
        "\n",
        "\n",
        "\n"
      ],
      "metadata": {
        "id": "yBmAIS4ShN1A"
      },
      "execution_count": 24,
      "outputs": []
    },
    {
      "cell_type": "code",
      "source": [
        "import torch\n",
        "import torch.nn as nn\n",
        "from sklearn.model_selection import train_test_split\n",
        "\n",
        "# Split data into train and validation sets\n",
        "X_train, X_val, y_train, y_val = train_test_split(X, y, test_size=0.2, random_state=42)\n",
        "\n",
        "# Convert numpy arrays to PyTorch tensors\n",
        "X_train_tensor = torch.tensor(X_train, dtype=torch.float32)\n",
        "y_train_tensor = torch.tensor(y_train, dtype=torch.long)\n",
        "X_val_tensor = torch.tensor(X_val, dtype=torch.float32)\n",
        "y_val_tensor = torch.tensor(y_val, dtype=torch.long)\n",
        "\n",
        "# Define a simple fully connected neural network model using PyTorch\n",
        "class NeuralNetwork(nn.Module):\n",
        "    def __init__(self, input_size, hidden_size, num_classes):\n",
        "        super(NeuralNetwork, self).__init__()\n",
        "        self.fc1 = nn.Linear(input_size, hidden_size)\n",
        "        self.relu = nn.ReLU()\n",
        "        self.fc2 = nn.Linear(hidden_size, num_classes)\n",
        "\n",
        "    def forward(self, x):\n",
        "        out = self.fc1(x)\n",
        "        out = self.relu(out)\n",
        "        out = self.fc2(out)\n",
        "        return out\n",
        "\n",
        "# Initialize model, criterion, optimizer\n",
        "input_size = X_train.shape[1]\n",
        "hidden_size = 64\n",
        "num_classes = 2\n",
        "model = NeuralNetwork(input_size, hidden_size, num_classes)\n",
        "criterion = nn.CrossEntropyLoss()\n",
        "optimizer = torch.optim.Adam(model.parameters(), lr=0.001)\n"
      ],
      "metadata": {
        "id": "PS3jjG3GhNtP"
      },
      "execution_count": 25,
      "outputs": []
    },
    {
      "cell_type": "code",
      "source": [
        "# Training loop\n",
        "num_epochs = 50\n",
        "for epoch in range(num_epochs):\n",
        "    model.train()\n",
        "    optimizer.zero_grad()\n",
        "    outputs = model(X_train_tensor)\n",
        "    loss = criterion(outputs, y_train_tensor)\n",
        "    loss.backward()\n",
        "    optimizer.step()\n",
        "\n",
        "    if (epoch + 1) % 10 == 0:\n",
        "        print(f'Epoch [{epoch + 1}/{num_epochs}], Loss: {loss.item():.4f}')\n",
        "\n",
        "# Evaluate model on validation set\n",
        "with torch.no_grad():\n",
        "    model.eval()\n",
        "    outputs = model(X_val_tensor)\n",
        "    _, predicted = torch.max(outputs, 1)\n",
        "    accuracy = (predicted == y_val_tensor).float().mean()\n",
        "    print(f'Validation Accuracy: {accuracy.item():.4f}')\n"
      ],
      "metadata": {
        "id": "jSefc8U4i3fV",
        "outputId": "44f64d06-88cb-4cb1-861b-21a5a807713e",
        "colab": {
          "base_uri": "https://localhost:8080/"
        }
      },
      "execution_count": 26,
      "outputs": [
        {
          "output_type": "stream",
          "name": "stdout",
          "text": [
            "Epoch [10/50], Loss: 0.6545\n",
            "Epoch [20/50], Loss: 0.6335\n",
            "Epoch [30/50], Loss: 0.6316\n",
            "Epoch [40/50], Loss: 0.6317\n",
            "Epoch [50/50], Loss: 0.6303\n",
            "Validation Accuracy: 0.6357\n"
          ]
        }
      ]
    },
    {
      "cell_type": "code",
      "source": [],
      "metadata": {
        "id": "hf4aZlAQi3dq"
      },
      "execution_count": null,
      "outputs": []
    },
    {
      "cell_type": "code",
      "source": [],
      "metadata": {
        "id": "QuUnd48zi3b0"
      },
      "execution_count": null,
      "outputs": []
    },
    {
      "cell_type": "code",
      "source": [],
      "metadata": {
        "id": "Bo11l8xmi3Zg"
      },
      "execution_count": null,
      "outputs": []
    },
    {
      "cell_type": "code",
      "source": [],
      "metadata": {
        "id": "20AmoliEi3XP"
      },
      "execution_count": null,
      "outputs": []
    },
    {
      "cell_type": "code",
      "source": [],
      "metadata": {
        "id": "qypOAbgbi3U4"
      },
      "execution_count": null,
      "outputs": []
    },
    {
      "cell_type": "code",
      "source": [
        "import numpy as np\n",
        "\n",
        "# Define parameters\n",
        "clip_length = 5  # Length of each clip in seconds\n",
        "clip_length_samples = int(clip_length * fs)  # Convert clip length to samples\n",
        "\n",
        "# Initialize lists to store clips and labels\n",
        "clips = []\n",
        "labels = []\n",
        "\n",
        "# Iterate through each state\n",
        "for state in lfp.keys():\n",
        "    for segment in lfp[state]:\n",
        "        # Calculate the number of clips in the segment\n",
        "        num_clips = len(segment) // clip_length_samples\n",
        "\n",
        "        # Cut the segment into smaller clips\n",
        "        for i in range(num_clips):\n",
        "            start_index = i * clip_length_samples\n",
        "            end_index = start_index + clip_length_samples\n",
        "            clip = segment[start_index:end_index]\n",
        "\n",
        "            # Append the clip and its corresponding label to the lists\n",
        "            clips.append(clip)\n",
        "            labels.append(state)\n",
        "\n",
        "# Convert lists to numpy arrays\n",
        "clips = np.array(clips)\n",
        "labels = np.array(labels)\n",
        "\n",
        "# Print the shape of the resulting arrays\n",
        "print(\"Shape of clips array:\", clips.shape)\n",
        "print(\"Shape of labels array:\", labels.shape)\n"
      ],
      "metadata": {
        "id": "aDGj2jcQa2wQ",
        "outputId": "4b5b702d-555a-448d-9ae6-0e95759a530c",
        "colab": {
          "base_uri": "https://localhost:8080/"
        }
      },
      "execution_count": null,
      "outputs": [
        {
          "output_type": "stream",
          "name": "stdout",
          "text": [
            "Shape of clips array: (3682, 6250)\n",
            "Shape of labels array: (3682,)\n"
          ]
        }
      ]
    },
    {
      "cell_type": "code",
      "source": [
        "import scipy.stats\n",
        "\n",
        "# Function to extract features from each clip\n",
        "def extract_features(clip):\n",
        "    # Calculate statistics\n",
        "    stats = [np.mean(clip), np.std(clip), scipy.stats.skew(clip), scipy.stats.kurtosis(clip)]\n",
        "\n",
        "    # Calculate PSD\n",
        "    f, psd = scipy.signal.welch(clip, fs=fs, nperseg=clip_length_samples//10)  # Using a fraction of clip length for PSD\n",
        "    psd_features = psd[:10]  # Taking low frequency resolution\n",
        "\n",
        "    # Find oscillation frequency bands (e.g., delta, theta, alpha, beta)\n",
        "    # Example: delta (0.5 - 4 Hz), theta (4 - 8 Hz), alpha (8 - 12 Hz), beta (12 - 30 Hz)\n",
        "    delta_band = np.where((f >= 0.5) & (f <= 4))[0]\n",
        "    theta_band = np.where((f >= 4) & (f <= 8))[0]\n",
        "    alpha_band = np.where((f >= 8) & (f <= 12))[0]\n",
        "    beta_band = np.where((f >= 12) & (f <= 30))[0]\n",
        "\n",
        "    # Bandpass filter the signal within each band\n",
        "    delta_signal = np.mean(clip[delta_band])\n",
        "    theta_signal = np.mean(clip[theta_band])\n",
        "    alpha_signal = np.mean(clip[alpha_band])\n",
        "    beta_signal = np.mean(clip[beta_band])\n",
        "\n",
        "    # Perform normalization (e.g., z-score normalization)\n",
        "    stats_normalized = (stats - np.mean(stats)) / np.std(stats)\n",
        "    psd_normalized = (psd_features - np.mean(psd_features)) / np.std(psd_features)\n",
        "    band_features_normalized = [delta_signal, theta_signal, alpha_signal, beta_signal]\n",
        "\n",
        "    # Combine all features\n",
        "    features = np.concatenate([stats_normalized, psd_normalized, band_features_normalized])\n",
        "\n",
        "    return features\n",
        "\n",
        "# Extract features for each clip\n",
        "extracted_features = np.array([extract_features(clip) for clip in clips])\n",
        "\n",
        "# Print the shape of the resulting features array\n",
        "print(\"Shape of extracted features array:\", extracted_features.shape)\n"
      ],
      "metadata": {
        "colab": {
          "base_uri": "https://localhost:8080/"
        },
        "id": "rRg5mlhWc_jj",
        "outputId": "b43a13d6-c138-41a7-b206-f3e576550626"
      },
      "execution_count": null,
      "outputs": [
        {
          "output_type": "stream",
          "name": "stdout",
          "text": [
            "Shape of extracted features array: (3682, 18)\n"
          ]
        }
      ]
    }
  ]
}